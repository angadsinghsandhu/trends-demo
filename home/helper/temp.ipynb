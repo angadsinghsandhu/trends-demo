{
 "cells": [
  {
   "cell_type": "code",
   "execution_count": 1,
   "id": "2957b655",
   "metadata": {},
   "outputs": [],
   "source": [
    "from gensim.models import Word2Vec\n",
    "from gensim.models import KeyedVectors\n",
    "from nltk.tokenize import word_tokenize \n",
    "from gensim.utils import tokenize\n",
    "from nltk.tokenize import sent_tokenize\n",
    "import pandas as pd\n",
    "import nltk\n",
    "from nltk.tokenize.treebank import TreebankWordDetokenizer\n",
    "from scipy.spatial import distance\n",
    "# from wordcloud import WordCloud, STOPWORDS"
   ]
  },
  {
   "cell_type": "code",
   "execution_count": 2,
   "id": "0ea13e25",
   "metadata": {},
   "outputs": [],
   "source": [
    "import numpy as np\n",
    "import pandas as pd\n",
    "import nltk\n",
    "import re\n",
    "import os\n",
    "import time\n",
    "import codecs\n",
    "import csv\n",
    "from sklearn import feature_extraction\n",
    "import collections \n",
    "from nltk.corpus import stopwords \n",
    "from nltk.tokenize import word_tokenize \n",
    "from nltk.stem.snowball import SnowballStemmer\n",
    "\n",
    "from sklearn.feature_extraction.text import TfidfVectorizer\n",
    "from sklearn.metrics.pairwise import cosine_similarity\n",
    "from sklearn.cluster import KMeans\n",
    "from sklearn.manifold import MDS\n",
    "\n",
    "from scipy.spatial import distance\n",
    "from sklearn.manifold import TSNE\n",
    "import matplotlib.pyplot as plt\n",
    "import nltk.stem as stemmer\n"
   ]
  },
  {
   "cell_type": "code",
   "execution_count": 3,
   "id": "30633fe8",
   "metadata": {},
   "outputs": [
    {
     "name": "stderr",
     "output_type": "stream",
     "text": [
      "[nltk_data] Downloading package averaged_perceptron_tagger to\n",
      "[nltk_data]     C:\\Users\\Angad Sandhu\\AppData\\Roaming\\nltk_data...\n",
      "[nltk_data]   Package averaged_perceptron_tagger is already up-to-\n",
      "[nltk_data]       date!\n",
      "[nltk_data] Downloading package stopwords to C:\\Users\\Angad\n",
      "[nltk_data]     Sandhu\\AppData\\Roaming\\nltk_data...\n",
      "[nltk_data]   Package stopwords is already up-to-date!\n",
      "[nltk_data] Downloading package punkt to C:\\Users\\Angad\n",
      "[nltk_data]     Sandhu\\AppData\\Roaming\\nltk_data...\n",
      "[nltk_data]   Package punkt is already up-to-date!\n"
     ]
    },
    {
     "data": {
      "text/plain": [
       "True"
      ]
     },
     "execution_count": 3,
     "metadata": {},
     "output_type": "execute_result"
    }
   ],
   "source": [
    "# one-time downloads\n",
    "nltk.download('averaged_perceptron_tagger')\n",
    "nltk.download('stopwords')\n",
    "nltk.download('punkt')"
   ]
  },
  {
   "cell_type": "code",
   "execution_count": 4,
   "id": "aa79b255",
   "metadata": {},
   "outputs": [],
   "source": [
    "def rem_stop_words(example_sent):\n",
    "    \n",
    "    example_sent = str(example_sent.lower())\n",
    "    stop_words = set(stopwords.words('english')) \n",
    "\n",
    "    word_tokens = word_tokenize(example_sent) \n",
    "  \n",
    "    filtered_sentence = [] \n",
    "  \n",
    "    for w in word_tokens: \n",
    "        if w not in stop_words: \n",
    "            filtered_sentence.append(w)\n",
    "            if w == \".\" or w == \"?\" or w == \"!\" or w == \",\" or w ==\"'\" or w == \"’\" or w == \"”\" or w == \":\" or w == \"‘\" or w == \"“\":\n",
    "                filtered_sentence = filtered_sentence[:-2]\n",
    "            filtered_sentence.append(\" \")\n",
    "    TreebankWordDetokenizer().detokenize(filtered_sentence)\n",
    "    return(filtered_sentence) \n",
    "\n",
    "# Take in a string and remove punctuation, repeat lines, etc.\n",
    "# RETURN: string (cleaned up)\n",
    "def cleaner(text):\n",
    "    \n",
    "    text = re.sub('NOTE- TERMS IN BRACKETS HAVE BEEN EDITED TO PROTECT CONFIDENTIALITY','', text)\n",
    "    text = re.sub('<BR/>',' ', text)\n",
    "    text = text.lower()\n",
    "    text = re.sub('[****]','',text)\n",
    "    \n",
    "    text = re.sub('[/%#;:!,.<>\\'?\\\"()-\\[\\]]',' ',text)\n",
    "    text = re.sub('[0-9*]','',text)\n",
    "\n",
    "    text = re.sub(r'(?:^| )\\w(?:$| )', ' ', text)\n",
    "    \n",
    "    a = nltk.pos_tag(tokenize_only(text))\n",
    "    a = pd.DataFrame(a)\n",
    "    a = a[a[1] == 'NN']\n",
    "    text = ' '.join(a[0])\n",
    "    \n",
    "    return(text)\n",
    "def to_lower(text):\n",
    "    text = re.sub(r'^https?:\\/\\/.*[\\r\\n]*', '', text, flags=re.MULTILINE)\n",
    "    re.sub(r\"\\S*https?:\\S*\", \"\", text)\n",
    "    text = text.lower()\n",
    "    #text = re.sub(, \"\", text)\n",
    "    return(text)\n",
    "\n",
    "def tokenize_only(text):\n",
    "    # first tokenize by sentence, then by word to ensure that punctuation is caught as it's own token\n",
    "    tokens = [word.lower() for sent in nltk.sent_tokenize(text) for word in nltk.word_tokenize(sent)]\n",
    "    filtered_tokens = []\n",
    "    # filter out any tokens not containing letters (e.g., numeric tokens, raw punctuation)\n",
    "    for token in tokens:\n",
    "        if re.search('[a-zA-Z]', token):\n",
    "            if(stemmer.stem(token) not in rem_words):\n",
    "                filtered_tokens.append(token)\n",
    "    return filtered_tokens\n",
    "\n",
    "def tokenize_and_stem(text, rem_words):\n",
    "    \n",
    "    tokens = [word for sent in nltk.sent_tokenize(text) for word in nltk.word_tokenize(sent)]\n",
    "    filtered_tokens = []\n",
    "    # filter out any tokens not containing letters (e.g., numeric tokens, raw punctuation)\n",
    "    for token in tokens:\n",
    "        if re.search('[a-zA-Z]', token):\n",
    "            filtered_tokens.append(token)\n",
    "    stems = [stemmer.stem(t) for t in filtered_tokens]\n",
    "    stems = [e for e in stems if e not in rem_words ]\n",
    "    return stems\n",
    "stemmer = SnowballStemmer(\"english\")"
   ]
  },
  {
   "cell_type": "code",
   "execution_count": 5,
   "id": "73625bcf",
   "metadata": {},
   "outputs": [],
   "source": [
    "# rem_words_1 = \"survey,nurse,cited,am,pm,resident,residents,she,not,review,facility,state,have,year,employee,reported,management,\"\n",
    "# rem_words_2 = \"he,staff,interview,care,date,reveal,record,be,month,document,physician,lpn,na,code,description,previous,hospital,m,\"\n",
    "# rem_words_3 = \"observation,stated,assessment,don,mds,gna,cna,pa,cm,medical,names,order,status,immediately,redacted,condition,plan,\"\n",
    "# rem_words_4 = \"administrative,note,time,indicated,incident,redirected,director,uses,include,inr,rn,investigation,asked,following,\"\n",
    "# rem_words_5 = \"provided,alleged,failed,identified,said,ei,ri,parking,assist,every,get,\"\n",
    "# rem_words_6 = \"room,left,mm,hg,adl,xl,day,mg,mar,knows,prn,look,ard,give,ml,also,ted,made,non,bims,pasrr,\" # 7/13 update\n",
    "#rem_words = rem_words_1 + rem_words_2 + rem_words_3 + rem_words_4 + rem_words_5 + rem_words_6 + num_alphas\n",
    "\n",
    "num_alphas  = \"one,two,three,four,five,six,seven,eight,nine,ten,\"\n",
    "rem_words = num_alphas\n",
    "rem_words = rem_words.split(',')\n",
    "rem_words = [stemmer.stem(t) for t in rem_words]"
   ]
  },
  {
   "cell_type": "code",
   "execution_count": 6,
   "id": "1fa52a7f",
   "metadata": {},
   "outputs": [
    {
     "name": "stderr",
     "output_type": "stream",
     "text": [
      "C:\\Users\\Angad Sandhu\\AppData\\Local\\Temp\\ipykernel_46156\\1495447518.py:1: ParserWarning: Falling back to the 'python' engine because the 'c' engine does not support regex separators (separators > 1 char and different from '\\s+' are interpreted as regex); you can avoid this warning by specifying engine='python'.\n",
      "  jan1_dataset = pd.read_csv(\"./data/nyt/jan1.csv\", delimiter = \"/t\")\n",
      "C:\\Users\\Angad Sandhu\\AppData\\Local\\Temp\\ipykernel_46156\\1495447518.py:2: ParserWarning: Falling back to the 'python' engine because the 'c' engine does not support regex separators (separators > 1 char and different from '\\s+' are interpreted as regex); you can avoid this warning by specifying engine='python'.\n",
      "  jan2_dataset = pd.read_csv(\"./data/nyt/jan2.csv\", delimiter = \"/t\")\n",
      "C:\\Users\\Angad Sandhu\\AppData\\Local\\Temp\\ipykernel_46156\\1495447518.py:3: ParserWarning: Falling back to the 'python' engine because the 'c' engine does not support regex separators (separators > 1 char and different from '\\s+' are interpreted as regex); you can avoid this warning by specifying engine='python'.\n",
      "  aug1_dataset = pd.read_csv(\"./data/nyt/aug1.csv\", delimiter = \"/t\")\n",
      "C:\\Users\\Angad Sandhu\\AppData\\Local\\Temp\\ipykernel_46156\\1495447518.py:4: ParserWarning: Falling back to the 'python' engine because the 'c' engine does not support regex separators (separators > 1 char and different from '\\s+' are interpreted as regex); you can avoid this warning by specifying engine='python'.\n",
      "  aug2_dataset = pd.read_csv(\"./data/nyt/aug2.csv\", delimiter = \"/t\")\n",
      "C:\\Users\\Angad Sandhu\\AppData\\Local\\Temp\\ipykernel_46156\\1495447518.py:5: ParserWarning: Falling back to the 'python' engine because the 'c' engine does not support regex separators (separators > 1 char and different from '\\s+' are interpreted as regex); you can avoid this warning by specifying engine='python'.\n",
      "  dec1_dataset = pd.read_csv(\"./data/nyt/dec1.csv\", delimiter = \"/t\")\n",
      "C:\\Users\\Angad Sandhu\\AppData\\Local\\Temp\\ipykernel_46156\\1495447518.py:6: ParserWarning: Falling back to the 'python' engine because the 'c' engine does not support regex separators (separators > 1 char and different from '\\s+' are interpreted as regex); you can avoid this warning by specifying engine='python'.\n",
      "  dec2_dataset = pd.read_csv(\"./data/nyt/dec2.csv\", delimiter = \"/t\")\n"
     ]
    }
   ],
   "source": [
    "jan1_dataset = pd.read_csv(\"./data/nyt/jan1.csv\", delimiter = \"/t\")\n",
    "jan2_dataset = pd.read_csv(\"./data/nyt/jan2.csv\", delimiter = \"/t\")\n",
    "aug1_dataset = pd.read_csv(\"./data/nyt/aug1.csv\", delimiter = \"/t\")\n",
    "aug2_dataset = pd.read_csv(\"./data/nyt/aug2.csv\", delimiter = \"/t\")\n",
    "dec1_dataset = pd.read_csv(\"./data/nyt/dec1.csv\", delimiter = \"/t\")\n",
    "dec2_dataset = pd.read_csv(\"./data/nyt/dec2.csv\", delimiter = \"/t\")"
   ]
  },
  {
   "cell_type": "code",
   "execution_count": 7,
   "id": "03e9b46f",
   "metadata": {
    "scrolled": true
   },
   "outputs": [
    {
     "data": {
      "text/html": [
       "<div>\n",
       "<style scoped>\n",
       "    .dataframe tbody tr th:only-of-type {\n",
       "        vertical-align: middle;\n",
       "    }\n",
       "\n",
       "    .dataframe tbody tr th {\n",
       "        vertical-align: top;\n",
       "    }\n",
       "\n",
       "    .dataframe thead th {\n",
       "        text-align: right;\n",
       "    }\n",
       "</style>\n",
       "<table border=\"1\" class=\"dataframe\">\n",
       "  <thead>\n",
       "    <tr style=\"text-align: right;\">\n",
       "      <th></th>\n",
       "      <th>Headlines</th>\n",
       "      <th>Glances</th>\n",
       "    </tr>\n",
       "  </thead>\n",
       "  <tbody>\n",
       "    <tr>\n",
       "      <th>0</th>\n",
       "      <td>No More Statutes of Limitations for Rape</td>\n",
       "      <td>Bill Cosby came close to escaping sexual assau...</td>\n",
       "    </tr>\n",
       "    <tr>\n",
       "      <th>1</th>\n",
       "      <td>No. 1 Clemson Advances to National Championshi...</td>\n",
       "      <td>Led by quarterback Deshaun Watson, the Tigers ...</td>\n",
       "    </tr>\n",
       "    <tr>\n",
       "      <th>2</th>\n",
       "      <td>Howard Davis Jr., Who Beat Grief to Win Boxing...</td>\n",
       "      <td>Davis, who was mourning his mother when he ear...</td>\n",
       "    </tr>\n",
       "  </tbody>\n",
       "</table>\n",
       "</div>"
      ],
      "text/plain": [
       "                                           Headlines  \\\n",
       "0           No More Statutes of Limitations for Rape   \n",
       "1  No. 1 Clemson Advances to National Championshi...   \n",
       "2  Howard Davis Jr., Who Beat Grief to Win Boxing...   \n",
       "\n",
       "                                             Glances  \n",
       "0  Bill Cosby came close to escaping sexual assau...  \n",
       "1  Led by quarterback Deshaun Watson, the Tigers ...  \n",
       "2  Davis, who was mourning his mother when he ear...  "
      ]
     },
     "execution_count": 7,
     "metadata": {},
     "output_type": "execute_result"
    }
   ],
   "source": [
    "jan1_dataset.head(3)"
   ]
  },
  {
   "cell_type": "code",
   "execution_count": 8,
   "id": "3534b43e",
   "metadata": {},
   "outputs": [
    {
     "data": {
      "text/html": [
       "<div>\n",
       "<style scoped>\n",
       "    .dataframe tbody tr th:only-of-type {\n",
       "        vertical-align: middle;\n",
       "    }\n",
       "\n",
       "    .dataframe tbody tr th {\n",
       "        vertical-align: top;\n",
       "    }\n",
       "\n",
       "    .dataframe thead th {\n",
       "        text-align: right;\n",
       "    }\n",
       "</style>\n",
       "<table border=\"1\" class=\"dataframe\">\n",
       "  <thead>\n",
       "    <tr style=\"text-align: right;\">\n",
       "      <th></th>\n",
       "      <th>Headlines</th>\n",
       "      <th>Glances</th>\n",
       "    </tr>\n",
       "  </thead>\n",
       "  <tbody>\n",
       "    <tr>\n",
       "      <th>0</th>\n",
       "      <td>Germany Eliminates U.S. Women’s Field Hockey i...</td>\n",
       "      <td>The United States fell behind, 2-0, to Germany...</td>\n",
       "    </tr>\n",
       "    <tr>\n",
       "      <th>1</th>\n",
       "      <td>Gerald Grosvenor, British Duke and Billionaire...</td>\n",
       "      <td>The sixth Duke of Westminster was the country’...</td>\n",
       "    </tr>\n",
       "    <tr>\n",
       "      <th>2</th>\n",
       "      <td>N.F.L. Threatens to Suspend Four Players for N...</td>\n",
       "      <td>Julius Peppers, Clay Matthews, James Harrison ...</td>\n",
       "    </tr>\n",
       "  </tbody>\n",
       "</table>\n",
       "</div>"
      ],
      "text/plain": [
       "                                           Headlines  \\\n",
       "0  Germany Eliminates U.S. Women’s Field Hockey i...   \n",
       "1  Gerald Grosvenor, British Duke and Billionaire...   \n",
       "2  N.F.L. Threatens to Suspend Four Players for N...   \n",
       "\n",
       "                                             Glances  \n",
       "0  The United States fell behind, 2-0, to Germany...  \n",
       "1  The sixth Duke of Westminster was the country’...  \n",
       "2  Julius Peppers, Clay Matthews, James Harrison ...  "
      ]
     },
     "execution_count": 8,
     "metadata": {},
     "output_type": "execute_result"
    }
   ],
   "source": [
    "aug2_dataset.head(3)"
   ]
  },
  {
   "cell_type": "code",
   "execution_count": 9,
   "id": "78387884",
   "metadata": {
    "scrolled": true
   },
   "outputs": [
    {
     "data": {
      "text/html": [
       "<div>\n",
       "<style scoped>\n",
       "    .dataframe tbody tr th:only-of-type {\n",
       "        vertical-align: middle;\n",
       "    }\n",
       "\n",
       "    .dataframe tbody tr th {\n",
       "        vertical-align: top;\n",
       "    }\n",
       "\n",
       "    .dataframe thead th {\n",
       "        text-align: right;\n",
       "    }\n",
       "</style>\n",
       "<table border=\"1\" class=\"dataframe\">\n",
       "  <thead>\n",
       "    <tr style=\"text-align: right;\">\n",
       "      <th></th>\n",
       "      <th>Headlines</th>\n",
       "      <th>Glances</th>\n",
       "    </tr>\n",
       "  </thead>\n",
       "  <tbody>\n",
       "    <tr>\n",
       "      <th>0</th>\n",
       "      <td>Guggenheim Helsinki Museum Plans Are Rejected</td>\n",
       "      <td>Lawmakers in the Finnish city voted down a pro...</td>\n",
       "    </tr>\n",
       "    <tr>\n",
       "      <th>1</th>\n",
       "      <td>North Carolina’s Sore Loser</td>\n",
       "      <td>Gov. Pat McCrory, rejected by the voters, is e...</td>\n",
       "    </tr>\n",
       "    <tr>\n",
       "      <th>2</th>\n",
       "      <td>Mahmoud Abbas Proposes Palestinian Unity Gover...</td>\n",
       "      <td>Addressing a conference of his Fatah party, Mr...</td>\n",
       "    </tr>\n",
       "  </tbody>\n",
       "</table>\n",
       "</div>"
      ],
      "text/plain": [
       "                                           Headlines  \\\n",
       "0      Guggenheim Helsinki Museum Plans Are Rejected   \n",
       "1                        North Carolina’s Sore Loser   \n",
       "2  Mahmoud Abbas Proposes Palestinian Unity Gover...   \n",
       "\n",
       "                                             Glances  \n",
       "0  Lawmakers in the Finnish city voted down a pro...  \n",
       "1  Gov. Pat McCrory, rejected by the voters, is e...  \n",
       "2  Addressing a conference of his Fatah party, Mr...  "
      ]
     },
     "execution_count": 9,
     "metadata": {},
     "output_type": "execute_result"
    }
   ],
   "source": [
    "dec1_dataset.head(3)"
   ]
  },
  {
   "cell_type": "code",
   "execution_count": 10,
   "id": "4c70b129",
   "metadata": {},
   "outputs": [],
   "source": [
    "jan1_dataset = jan1_dataset['Headlines'].map(str) + '. ' + jan1_dataset['Glances'].map(str)\n",
    "jan2_dataset = jan2_dataset['Headlines'].map(str) + '. ' + jan2_dataset['Glances'].map(str)\n",
    "aug1_dataset = aug1_dataset['Headlines'].map(str) + '. ' + aug1_dataset['Glances'].map(str)\n",
    "aug2_dataset = aug2_dataset['Headlines'].map(str) + '. ' + aug2_dataset['Glances'].map(str)\n",
    "dec1_dataset = dec1_dataset['Headlines'].map(str) + '. ' + dec1_dataset['Glances'].map(str)\n",
    "dec2_dataset = dec2_dataset['Headlines'].map(str) + '. ' + dec2_dataset['Glances'].map(str)"
   ]
  },
  {
   "cell_type": "code",
   "execution_count": 11,
   "id": "64ec03c0",
   "metadata": {},
   "outputs": [
    {
     "name": "stderr",
     "output_type": "stream",
     "text": [
      "C:\\Users\\Angad Sandhu\\AppData\\Local\\Temp\\ipykernel_46156\\3911213382.py:1: FutureWarning: The series.append method is deprecated and will be removed from pandas in a future version. Use pandas.concat instead.\n",
      "  jan = jan1_dataset.append(jan2_dataset, ignore_index = True)\n",
      "C:\\Users\\Angad Sandhu\\AppData\\Local\\Temp\\ipykernel_46156\\3911213382.py:2: FutureWarning: The series.append method is deprecated and will be removed from pandas in a future version. Use pandas.concat instead.\n",
      "  aug = aug1_dataset.append(aug2_dataset, ignore_index = True)\n",
      "C:\\Users\\Angad Sandhu\\AppData\\Local\\Temp\\ipykernel_46156\\3911213382.py:3: FutureWarning: The series.append method is deprecated and will be removed from pandas in a future version. Use pandas.concat instead.\n",
      "  dec = dec1_dataset.append(dec2_dataset, ignore_index = True)\n"
     ]
    }
   ],
   "source": [
    "jan = jan1_dataset.append(jan2_dataset, ignore_index = True)\n",
    "aug = aug1_dataset.append(aug2_dataset, ignore_index = True)\n",
    "dec = dec1_dataset.append(dec2_dataset, ignore_index = True)"
   ]
  },
  {
   "cell_type": "code",
   "execution_count": 12,
   "id": "32881a94",
   "metadata": {
    "scrolled": true
   },
   "outputs": [
    {
     "name": "stdout",
     "output_type": "stream",
     "text": [
      "2006 2006\n",
      "2001 2001\n",
      "1798 1798\n"
     ]
    }
   ],
   "source": [
    "print(len(jan1_dataset)+len(jan2_dataset),len(jan))\n",
    "print(len(aug1_dataset)+len(aug2_dataset),len(aug))\n",
    "print(len(dec1_dataset)+len(dec2_dataset),len(dec))"
   ]
  },
  {
   "cell_type": "code",
   "execution_count": 13,
   "id": "b42c5106",
   "metadata": {},
   "outputs": [
    {
     "name": "stdout",
     "output_type": "stream",
     "text": [
      "No More Statutes of Limitations for Rape. Bill Cosby came close to escaping sexual assault charges. How many others do?\n",
      "\n",
      "Germany Eliminates U.S. Women’s Field Hockey in a Quarterfinal. The United States fell behind, 2-0, to Germany in the first period and could not tie the score. One American goal was taken away on video review.\n",
      "\n",
      "Mahmoud Abbas Proposes Palestinian Unity Government With Hamas. Addressing a conference of his Fatah party, Mr. Abbas sought to push forward long-stalled efforts to reconcile the two major competing Palestinian factions.\n"
     ]
    }
   ],
   "source": [
    "print(jan[0], aug[1010], dec[2], sep = '\\n\\n')"
   ]
  },
  {
   "cell_type": "code",
   "execution_count": 14,
   "id": "809def43",
   "metadata": {},
   "outputs": [],
   "source": [
    "cleaned_jan = []\n",
    "cleaned_aug = []\n",
    "cleaned_dec = []"
   ]
  },
  {
   "cell_type": "code",
   "execution_count": 15,
   "id": "877f5597",
   "metadata": {
    "scrolled": false
   },
   "outputs": [],
   "source": [
    "for k in jan: cleaned_jan.append(''.join(rem_stop_words(k)))\n",
    "for k in aug: cleaned_aug.append(''.join(rem_stop_words(k)))\n",
    "for k in dec: cleaned_dec.append(''.join(rem_stop_words(k)))"
   ]
  },
  {
   "cell_type": "code",
   "execution_count": 16,
   "id": "ed6bc9db",
   "metadata": {
    "scrolled": true
   },
   "outputs": [
    {
     "name": "stdout",
     "output_type": "stream",
     "text": [
      "statutes limitations rape bill cosby came close escaping sexual assault charges many others \n",
      "\n",
      "germany eliminates u.s. women field hockey quarterfinal united states fell behind 2-0 germany first period could tie score one american goal taken away video review \n",
      "\n",
      "mahmoud abbas proposes palestinian unity government hamas addressing conference fatah party mr. abbas sought push forward long-stalled efforts reconcile two major competing palestinian factions \n"
     ]
    }
   ],
   "source": [
    "print(cleaned_jan[0], cleaned_aug[1010], cleaned_dec[2], sep = '\\n\\n')"
   ]
  },
  {
   "cell_type": "code",
   "execution_count": 17,
   "id": "e72cfc3e",
   "metadata": {},
   "outputs": [],
   "source": [
    "jan_vectors = [nltk.word_tokenize(cleaned_jan) for cleaned_jan in cleaned_jan]\n",
    "aug_vectors = [nltk.word_tokenize(cleaned_aug) for cleaned_aug in cleaned_aug]\n",
    "dec_vectors = [nltk.word_tokenize(cleaned_dec) for cleaned_dec in cleaned_dec]"
   ]
  },
  {
   "cell_type": "code",
   "execution_count": 18,
   "id": "b5ddd9d1",
   "metadata": {},
   "outputs": [],
   "source": [
    "jan_model = Word2Vec(jan_vectors)\n",
    "aug_model = Word2Vec(aug_vectors)\n",
    "dec_model = Word2Vec(dec_vectors)"
   ]
  },
  {
   "cell_type": "code",
   "execution_count": 19,
   "id": "9c066e38",
   "metadata": {
    "scrolled": true
   },
   "outputs": [
    {
     "data": {
      "text/plain": [
       "[('city', 0.9658533334732056),\n",
       " ('mr.', 0.965450644493103),\n",
       " ('state', 0.9654482007026672),\n",
       " ('police', 0.9652068614959717),\n",
       " ('team', 0.9650338888168335),\n",
       " ('president', 0.964967668056488),\n",
       " ('first', 0.9649149775505066),\n",
       " ('work', 0.964876651763916),\n",
       " ('last', 0.9648411870002747),\n",
       " ('two', 0.9644590020179749)]"
      ]
     },
     "execution_count": 19,
     "metadata": {},
     "output_type": "execute_result"
    }
   ],
   "source": [
    "jan_model.wv.most_similar(\"sports\", topn = 10)"
   ]
  },
  {
   "cell_type": "code",
   "execution_count": 20,
   "id": "b5838f87",
   "metadata": {
    "scrolled": true
   },
   "outputs": [
    {
     "data": {
      "text/plain": [
       "[('like', 0.990612268447876),\n",
       " ('country', 0.99017333984375),\n",
       " ('mr.', 0.9901441931724548),\n",
       " ('rio', 0.990090012550354),\n",
       " ('music', 0.9899954199790955),\n",
       " ('police', 0.9898656606674194),\n",
       " ('president', 0.9898623824119568),\n",
       " ('series', 0.9897141456604004),\n",
       " ('readers', 0.9896591901779175),\n",
       " ('many', 0.9896560311317444),\n",
       " ('said', 0.9895200133323669),\n",
       " ('still', 0.9895018935203552),\n",
       " ('team', 0.9894329309463501),\n",
       " ('years', 0.9893271327018738),\n",
       " ('people', 0.9892781972885132),\n",
       " ('world', 0.989262044429779),\n",
       " ('new', 0.9892016649246216),\n",
       " ('china', 0.9891262650489807),\n",
       " ('olympic', 0.9890998005867004),\n",
       " ('war', 0.9890785813331604),\n",
       " ('two', 0.9890009164810181),\n",
       " ('military', 0.9889838695526123),\n",
       " ('could', 0.9889411330223083),\n",
       " ('first', 0.988917887210846),\n",
       " ('show', 0.988789439201355),\n",
       " ('work', 0.988663911819458),\n",
       " ('yankees', 0.9885494112968445),\n",
       " ('says', 0.9885241985321045),\n",
       " ('american', 0.9884622097015381),\n",
       " ('women', 0.9884535670280457),\n",
       " ('one', 0.9883913397789001),\n",
       " ('dies', 0.9881979823112488),\n",
       " ('top', 0.9881388545036316),\n",
       " ('open', 0.9880903959274292),\n",
       " ('u.s.', 0.9879883527755737),\n",
       " ('brazil', 0.987968921661377),\n",
       " ('united', 0.9878401160240173),\n",
       " ('medal', 0.9878267049789429),\n",
       " ('last', 0.9878113865852356),\n",
       " ('gold', 0.9877227544784546),\n",
       " ('—', 0.9876906275749207),\n",
       " ('game', 0.9875921607017517),\n",
       " ('would', 0.9875884652137756),\n",
       " ('may', 0.987533688545227),\n",
       " ('also', 0.9875169396400452),\n",
       " ('men', 0.9874994158744812),\n",
       " ('games', 0.9874767065048218),\n",
       " ('attack', 0.9872512221336365),\n",
       " ('festival', 0.9872375130653381),\n",
       " ('city', 0.9872286915779114),\n",
       " ('group', 0.987227201461792),\n",
       " ('time', 0.9872181415557861),\n",
       " ('government', 0.9871100187301636),\n",
       " ('trump', 0.9871028065681458),\n",
       " ('year', 0.987090528011322),\n",
       " ('long', 0.9870637059211731),\n",
       " ('season', 0.9870628714561462),\n",
       " ('national', 0.987052857875824),\n",
       " ('state', 0.9869441986083984),\n",
       " ('life', 0.9869028329849243),\n",
       " ('mets', 0.9867353439331055),\n",
       " ('russia', 0.986675500869751),\n",
       " ('south', 0.986668050289154),\n",
       " ('since', 0.9866370558738708),\n",
       " ('tv', 0.9865464568138123),\n",
       " ('officials', 0.9864845871925354),\n",
       " ('home', 0.9864633679389954),\n",
       " ('another', 0.9863544702529907),\n",
       " ('art', 0.9862747192382812),\n",
       " ('..', 0.9862402081489563),\n",
       " ('killed', 0.9862282872200012),\n",
       " ('week', 0.9862121343612671),\n",
       " ('museum', 0.9861742854118347),\n",
       " ('york', 0.9861043691635132),\n",
       " ('donald', 0.9860243201255798),\n",
       " ('olympics', 0.9860195517539978),\n",
       " ('win', 0.9859544038772583),\n",
       " ('states', 0.985950767993927),\n",
       " ('day', 0.985932469367981),\n",
       " ('final', 0.9858576059341431),\n",
       " ('made', 0.9858477115631104),\n",
       " ('three', 0.9858081340789795),\n",
       " ('end', 0.985712468624115),\n",
       " ('man', 0.9855904579162598),\n",
       " ('even', 0.9855796098709106),\n",
       " ('make', 0.9853585958480835),\n",
       " ('international', 0.9853140711784363),\n",
       " ('de', 0.9851565361022949),\n",
       " ('part', 0.9850652813911438),\n",
       " ('former', 0.9848107695579529),\n",
       " ('left', 0.9847283363342285),\n",
       " ('back', 0.9847038388252258),\n",
       " ('chinese', 0.9846803545951843),\n",
       " ('august', 0.9846047163009644),\n",
       " ('night', 0.9845896363258362),\n",
       " ('four', 0.9844671487808228),\n",
       " ('next', 0.9843437671661377),\n",
       " ('major', 0.9842768311500549),\n",
       " ('minister', 0.9841790199279785),\n",
       " ('go', 0.9841066002845764)]"
      ]
     },
     "execution_count": 20,
     "metadata": {},
     "output_type": "execute_result"
    }
   ],
   "source": [
    "aug_model.wv.most_similar(\"sports\", topn = 100)"
   ]
  },
  {
   "cell_type": "code",
   "execution_count": 21,
   "id": "21b87598",
   "metadata": {},
   "outputs": [
    {
     "data": {
      "text/plain": [
       "[('president', 0.9656460285186768),\n",
       " ('would', 0.964421272277832),\n",
       " ('three', 0.9635287523269653),\n",
       " ('change', 0.9629695415496826),\n",
       " ('government', 0.9628058671951294),\n",
       " ('two', 0.9625817537307739),\n",
       " ('could', 0.9624937772750854),\n",
       " ('russia', 0.9621400833129883),\n",
       " ('back', 0.9617983102798462),\n",
       " ('still', 0.9616525173187256),\n",
       " ('trump', 0.9615432620048523),\n",
       " ('mr.', 0.9615288376808167),\n",
       " ('make', 0.9611717462539673),\n",
       " ('prime', 0.9611583948135376),\n",
       " ('season', 0.9611340165138245),\n",
       " ('new', 0.9610781073570251),\n",
       " ('says', 0.961066722869873),\n",
       " ('court', 0.9609964489936829),\n",
       " ('attack', 0.9609403610229492),\n",
       " ('team', 0.9608994126319885),\n",
       " ('said', 0.960892915725708),\n",
       " ('women', 0.9605609178543091),\n",
       " ('year', 0.9605298638343811),\n",
       " ('country', 0.9604044556617737),\n",
       " ('one', 0.9603869318962097),\n",
       " ('state', 0.9600490927696228),\n",
       " ('even', 0.960034191608429),\n",
       " ('first', 0.959821343421936),\n",
       " ('..', 0.9598023891448975),\n",
       " ('may', 0.9596399664878845),\n",
       " ('russian', 0.9595057368278503),\n",
       " ('minister', 0.9594361782073975),\n",
       " ('people', 0.9590838551521301),\n",
       " ('series', 0.9590818881988525),\n",
       " ('china', 0.9590473175048828),\n",
       " ('york', 0.9589196443557739),\n",
       " ('next', 0.9588626027107239),\n",
       " ('—', 0.9587947130203247),\n",
       " ('south', 0.9587329030036926),\n",
       " ('donald', 0.9587231874465942),\n",
       " ('million', 0.9586970806121826),\n",
       " ('many', 0.958569347858429),\n",
       " ('time', 0.9583783745765686),\n",
       " ('week', 0.9580819606781006),\n",
       " ('power', 0.9578041434288025),\n",
       " ('party', 0.9575914144515991),\n",
       " ('dies', 0.9575707316398621),\n",
       " ('president-elect', 0.9574385285377502),\n",
       " ('discuss', 0.9572271704673767),\n",
       " ('game', 0.9572194218635559),\n",
       " ('states', 0.9571073651313782),\n",
       " ('united', 0.9570333361625671),\n",
       " ('work', 0.9569693207740784),\n",
       " ('former', 0.9568446278572083),\n",
       " ('.', 0.9568261504173279),\n",
       " ('episode', 0.9568102955818176),\n",
       " ('years', 0.9566144943237305),\n",
       " ('u.s.', 0.956116259098053),\n",
       " ('world', 0.9560378789901733),\n",
       " ('show', 0.9560027122497559),\n",
       " ('best', 0.9559555649757385),\n",
       " ('also', 0.9559137225151062),\n",
       " ('american', 0.9558945894241333),\n",
       " ('readers', 0.9558604955673218),\n",
       " ('music', 0.9553821682929993),\n",
       " ('last', 0.9552448987960815),\n",
       " ('city', 0.9544876217842102),\n",
       " ('election', 0.9544658660888672),\n",
       " ('star', 0.9540677070617676),\n",
       " ('let', 0.9537195563316345),\n",
       " ('made', 0.953697681427002),\n",
       " ('live', 0.9535292983055115),\n",
       " ('league', 0.953208327293396),\n",
       " ('like', 0.953181266784668),\n",
       " ('british', 0.9531283974647522),\n",
       " ('football', 0.9530952572822571),\n",
       " ('2016', 0.9529716968536377),\n",
       " ('national', 0.9529564380645752),\n",
       " ('war', 0.9528089761734009),\n",
       " ('political', 0.9527053236961365),\n",
       " ('leader', 0.9526082277297974),\n",
       " ('knicks', 0.9525233507156372),\n",
       " ('deal', 0.9523544907569885),\n",
       " ('bad', 0.9523284435272217),\n",
       " ('israel', 0.9522380828857422),\n",
       " ('decision', 0.9522082805633545),\n",
       " ('times', 0.9521297216415405),\n",
       " ('players', 0.9518630504608154),\n",
       " ('tv', 0.9515898823738098),\n",
       " ('international', 0.951577365398407),\n",
       " ('shows', 0.9515053629875183),\n",
       " ('giants', 0.9512052536010742),\n",
       " ('win', 0.9511561989784241),\n",
       " ('christmas', 0.951103687286377),\n",
       " ('america', 0.9509827494621277),\n",
       " ('dance', 0.950919508934021),\n",
       " ('help', 0.9508937001228333),\n",
       " ('law', 0.9508578777313232),\n",
       " ('2016.', 0.9508397579193115),\n",
       " ('public', 0.9507657885551453)]"
      ]
     },
     "execution_count": 21,
     "metadata": {},
     "output_type": "execute_result"
    }
   ],
   "source": [
    "dec_model.wv.most_similar(\"sports\", topn = 100)"
   ]
  },
  {
   "cell_type": "code",
   "execution_count": 22,
   "id": "3919dac2",
   "metadata": {},
   "outputs": [
    {
     "data": {
      "text/plain": [
       "[('city', 0.9658533334732056),\n",
       " ('mr.', 0.965450644493103),\n",
       " ('state', 0.9654482007026672),\n",
       " ('police', 0.9652068614959717),\n",
       " ('team', 0.9650338888168335),\n",
       " ('president', 0.964967668056488),\n",
       " ('first', 0.9649149775505066),\n",
       " ('work', 0.964876651763916),\n",
       " ('last', 0.9648411870002747),\n",
       " ('two', 0.9644590020179749),\n",
       " ('music', 0.9643733501434326),\n",
       " ('dance', 0.9642733931541443),\n",
       " ('week', 0.9640741944313049),\n",
       " ('ms.', 0.964013397693634),\n",
       " ('would', 0.9640041589736938),\n",
       " ('government', 0.9637659192085266),\n",
       " ('knicks', 0.9635998010635376),\n",
       " ('new', 0.9635287523269653),\n",
       " ('women', 0.9633657336235046),\n",
       " ('said', 0.9632523059844971),\n",
       " ('teams', 0.9631854295730591),\n",
       " ('war', 0.9631350636482239),\n",
       " ('dies', 0.9631022810935974),\n",
       " ('star', 0.9630962610244751),\n",
       " ('one', 0.9630388617515564),\n",
       " ('obama', 0.9628710746765137),\n",
       " ('trump', 0.9628075957298279),\n",
       " ('years', 0.9628064632415771),\n",
       " ('world', 0.9627496004104614),\n",
       " ('coach', 0.962730348110199),\n",
       " ('american', 0.962723433971405),\n",
       " ('museum', 0.9627066254615784),\n",
       " ('country', 0.9625924229621887),\n",
       " ('readers', 0.9623993039131165),\n",
       " ('military', 0.9623051285743713),\n",
       " ('david', 0.9621429443359375),\n",
       " ('top', 0.9621294736862183),\n",
       " ('open', 0.9620155692100525),\n",
       " ('year', 0.9619518518447876),\n",
       " ('officials', 0.9618523120880127),\n",
       " ('game', 0.9617544412612915),\n",
       " ('could', 0.9617272019386292),\n",
       " ('many', 0.9616504311561584),\n",
       " ('time', 0.9615808129310608),\n",
       " ('big', 0.9615635871887207),\n",
       " ('says', 0.9615079760551453),\n",
       " ('iran', 0.9615032076835632),\n",
       " ('play', 0.9614843726158142),\n",
       " ('group', 0.9614179730415344),\n",
       " ('league', 0.9611546993255615),\n",
       " ('writes', 0.9611268639564514),\n",
       " ('help', 0.9610254764556885),\n",
       " ('u.s.', 0.9609728455543518),\n",
       " ('china', 0.9607367515563965),\n",
       " ('season', 0.960666835308075),\n",
       " ('hall', 0.960605263710022),\n",
       " ('rights', 0.960515022277832),\n",
       " ('attack', 0.9604101181030273),\n",
       " ('end', 0.9604015350341797),\n",
       " ('people', 0.9602971076965332),\n",
       " ('three', 0.9602736234664917),\n",
       " ('national', 0.9602715969085693),\n",
       " ('united', 0.9601832032203674),\n",
       " ('york', 0.9600973725318909),\n",
       " ('say', 0.9600557684898376),\n",
       " ('series', 0.9600308537483215),\n",
       " ('review', 0.9599708318710327),\n",
       " ('still', 0.959918200969696),\n",
       " ('need', 0.9598677158355713),\n",
       " ('—', 0.959823727607727),\n",
       " ('despite', 0.9597702622413635),\n",
       " ('like', 0.9597587585449219),\n",
       " ('show', 0.959722638130188),\n",
       " ('past', 0.9596199989318848),\n",
       " ('.', 0.9594917297363281),\n",
       " ('win', 0.9592464566230774),\n",
       " ('center', 0.959202229976654),\n",
       " ('set', 0.9591681361198425),\n",
       " ('may', 0.959048330783844),\n",
       " ('1941', 0.9589453935623169),\n",
       " ('back', 0.9589135646820068),\n",
       " ('times', 0.958645224571228),\n",
       " ('$', 0.9586105942726135),\n",
       " ('&', 0.9585325717926025),\n",
       " ('school', 0.9584808349609375),\n",
       " ('court', 0.9584797620773315),\n",
       " ('saturday', 0.9584465622901917),\n",
       " ('killed', 0.9584242105484009),\n",
       " ('nuclear', 0.9582704901695251),\n",
       " ('forces', 0.9582492709159851),\n",
       " ('german', 0.9582204818725586),\n",
       " ('former', 0.9581283926963806),\n",
       " ('festival', 0.9580041766166687),\n",
       " ('leader', 0.9578922986984253),\n",
       " ('isis', 0.9578534364700317),\n",
       " ('program', 0.9577429890632629),\n",
       " ('long', 0.9577347040176392),\n",
       " ('saudi', 0.9575961232185364),\n",
       " ('art', 0.9575836658477783),\n",
       " ('home', 0.9575523138046265)]"
      ]
     },
     "execution_count": 22,
     "metadata": {},
     "output_type": "execute_result"
    }
   ],
   "source": [
    "jan_model.wv.most_similar(\"sports\", topn = 100)"
   ]
  },
  {
   "cell_type": "code",
   "execution_count": 23,
   "id": "dfe07b8a",
   "metadata": {
    "scrolled": true
   },
   "outputs": [
    {
     "name": "stdout",
     "output_type": "stream",
     "text": [
      "0.0834912657737732\n"
     ]
    }
   ],
   "source": [
    "j = distance.cosine(jan_model.wv[\"race\"] , jan_model.wv['tennis'])\n",
    "print(j)"
   ]
  },
  {
   "cell_type": "code",
   "execution_count": 43,
   "id": "8157a974",
   "metadata": {},
   "outputs": [
    {
     "name": "stdout",
     "output_type": "stream",
     "text": [
      "[-0.02492658  0.0278069   0.00976755  0.01055398  0.00134971 -0.02867077\n",
      "  0.00735085  0.04475636 -0.0041492   0.00180992 -0.01426489 -0.03190466\n",
      " -0.00206268  0.01571588 -0.00298997 -0.01504361  0.00664304 -0.02462585\n",
      "  0.00446553 -0.03934927  0.00802747  0.01168154  0.00303005 -0.01468797\n",
      "  0.0062272  -0.00824677 -0.0180748  -0.01075765 -0.02443989  0.00508379\n",
      "  0.02876261  0.00693598  0.00847858 -0.00018384 -0.00517708  0.0377428\n",
      "  0.00069992 -0.02451934 -0.02231254 -0.05766664  0.00144289 -0.01240334\n",
      " -0.01168272  0.01070215  0.00316843 -0.02242561 -0.0236366  -0.00594093\n",
      "  0.00399097  0.02678657  0.01605918 -0.00330836 -0.01112434  0.00644305\n",
      " -0.01119441  0.01370619  0.02269539 -0.00479165 -0.02309172  0.00039116\n",
      "  0.01395684  0.01898719 -0.01064276  0.00222603 -0.03801022  0.0260216\n",
      " -0.00230839  0.02310234 -0.02483011  0.02111024 -0.01160305  0.00563065\n",
      "  0.02157688 -0.01771199  0.01630568  0.0119425  -0.0068142  -0.01018655\n",
      " -0.02413543 -0.00448151 -0.00685604 -0.01204213 -0.00265968  0.03357794\n",
      " -0.00403311  0.01100518 -0.0099519   0.02714145  0.0241399   0.0146025\n",
      "  0.02577214  0.00831795 -0.00483457  0.0150873   0.02640254  0.0202596\n",
      "  0.01095561 -0.02532835  0.00257622 -0.00666093]\n"
     ]
    }
   ],
   "source": [
    "t1 = \"race\"\n",
    "t2 = 'tennis'\n",
    "\n",
    "val1 = jan_model.wv[t1]\n",
    "\n",
    "val2 = jan_model.wv[t2]\n",
    "print(val2)\n",
    "\n",
    "# if not jan_model.wv[t2]:\n",
    "#     print(\"oops\")\n",
    "#     val2 = 10\n",
    "# else:\n",
    "#     val2 = jan_model.wv[t2]\n",
    "#     print(val2)\n",
    "\n",
    "\n",
    "j = distance.cosine(val1 , val2)"
   ]
  },
  {
   "cell_type": "code",
   "execution_count": 44,
   "id": "31f98760",
   "metadata": {},
   "outputs": [
    {
     "name": "stdout",
     "output_type": "stream",
     "text": [
      "waah\n"
     ]
    }
   ],
   "source": [
    "rel = []\n",
    "\n",
    "if not rel:\n",
    "    print(\"waah\")"
   ]
  },
  {
   "cell_type": "code",
   "execution_count": 24,
   "id": "13da2f61",
   "metadata": {},
   "outputs": [
    {
     "name": "stdout",
     "output_type": "stream",
     "text": [
      "0.02174544334411621\n"
     ]
    }
   ],
   "source": [
    "a = distance.cosine(aug_model.wv['race'] , aug_model.wv['tennis'])\n",
    "print(a)"
   ]
  },
  {
   "cell_type": "code",
   "execution_count": 25,
   "id": "25e110a0",
   "metadata": {
    "scrolled": true
   },
   "outputs": [
    {
     "name": "stdout",
     "output_type": "stream",
     "text": [
      "0.4847371578216553\n"
     ]
    }
   ],
   "source": [
    "d = distance.cosine(dec_model.wv['race'] , dec_model.wv['tennis'])\n",
    "print(d)"
   ]
  },
  {
   "cell_type": "code",
   "execution_count": 26,
   "id": "dba30acb",
   "metadata": {
    "scrolled": true
   },
   "outputs": [
    {
     "data": {
      "image/png": "[encoded data removed]",
      "text/plain": [
       "<Figure size 640x480 with 1 Axes>"
      ]
     },
     "metadata": {},
     "output_type": "display_data"
    }
   ],
   "source": [
    "plt.ylabel('Cosine Distance')\n",
    "plt.plot(['Jan', 'Aug', 'Dec'], [j, a, d], marker = 'o')\n",
    "\n",
    "plt.show()"
   ]
  },
  {
   "cell_type": "code",
   "execution_count": 27,
   "id": "e7e8cee4",
   "metadata": {
    "scrolled": true
   },
   "outputs": [
    {
     "name": "stdout",
     "output_type": "stream",
     "text": [
      "0.08522820472717285\n"
     ]
    }
   ],
   "source": [
    "j = distance.cosine(jan_model.wv[\"run\"] , jan_model.wv['tennis'])\n",
    "print(j)"
   ]
  },
  {
   "cell_type": "code",
   "execution_count": 28,
   "id": "6f122017",
   "metadata": {},
   "outputs": [
    {
     "name": "stdout",
     "output_type": "stream",
     "text": [
      "0.024388432502746582\n"
     ]
    }
   ],
   "source": [
    "a = distance.cosine(aug_model.wv['run'] , aug_model.wv['tennis'])\n",
    "print(a)"
   ]
  },
  {
   "cell_type": "code",
   "execution_count": 29,
   "id": "e5817ebd",
   "metadata": {
    "scrolled": true
   },
   "outputs": [
    {
     "name": "stdout",
     "output_type": "stream",
     "text": [
      "0.38158202171325684\n"
     ]
    }
   ],
   "source": [
    "d = distance.cosine(dec_model.wv['run'] , dec_model.wv['tennis'])\n",
    "print(d)"
   ]
  },
  {
   "cell_type": "code",
   "execution_count": 30,
   "id": "3251b748",
   "metadata": {
    "scrolled": false
   },
   "outputs": [
    {
     "data": {
      "image/png": "[encoded data removed]",
      "text/plain": [
       "<Figure size 640x480 with 1 Axes>"
      ]
     },
     "metadata": {},
     "output_type": "display_data"
    }
   ],
   "source": [
    "plt.ylabel('Cosine Distance')\n",
    "plt.plot(['Jan', 'Aug', 'Dec'], [j, a, d], marker = 'o')\n",
    "\n",
    "plt.show()"
   ]
  },
  {
   "cell_type": "code",
   "execution_count": 31,
   "id": "670624b7",
   "metadata": {
    "scrolled": true
   },
   "outputs": [
    {
     "name": "stdout",
     "output_type": "stream",
     "text": [
      "0.03414672613143921\n"
     ]
    }
   ],
   "source": [
    "j = distance.cosine(jan_model.wv[\"sports\"] , jan_model.wv['city'])\n",
    "print(j)"
   ]
  },
  {
   "cell_type": "code",
   "execution_count": 32,
   "id": "0888d759",
   "metadata": {},
   "outputs": [
    {
     "name": "stdout",
     "output_type": "stream",
     "text": [
      "0.012771189212799072\n"
     ]
    }
   ],
   "source": [
    "a = distance.cosine(aug_model.wv['sports'] , aug_model.wv['city'])\n",
    "print(a)"
   ]
  },
  {
   "cell_type": "code",
   "execution_count": 33,
   "id": "761eabaa",
   "metadata": {
    "scrolled": true
   },
   "outputs": [
    {
     "name": "stdout",
     "output_type": "stream",
     "text": [
      "0.045512378215789795\n"
     ]
    }
   ],
   "source": [
    "d = distance.cosine(dec_model.wv['sports'] , dec_model.wv['city'])\n",
    "print(d)"
   ]
  },
  {
   "cell_type": "code",
   "execution_count": 34,
   "id": "1fe9393b",
   "metadata": {
    "scrolled": false
   },
   "outputs": [
    {
     "data": {
      "image/png": "[encoded data removed]",
      "text/plain": [
       "<Figure size 640x480 with 1 Axes>"
      ]
     },
     "metadata": {},
     "output_type": "display_data"
    }
   ],
   "source": [
    "plt.ylabel('Cosine Distance')\n",
    "plt.plot(['Jan', 'Aug', 'Dec'], [j, a, d], marker = 'o')\n",
    "\n",
    "plt.show()"
   ]
  },
  {
   "cell_type": "code",
   "execution_count": 35,
   "id": "37859bef",
   "metadata": {},
   "outputs": [],
   "source": [
    "def word_cloud(month, word):\n",
    "    if month == \"jan\":\n",
    "        dataset = jan_model.wv.most_similar(word, topn = 50)\n",
    "    elif month == \"aug\":\n",
    "        dataset = aug_model.wv.most_similar(word, topn = 50)\n",
    "    elif month == \"dec\":\n",
    "        dataset = dec_model.wv.most_similar(word, topn = 50)\n",
    "    comment_words = ''\n",
    "    stopwords = set(STOPWORDS)\n",
    "    for val in dataset:\n",
    "        \n",
    "\n",
    "\n",
    "        # typecaste each val to string\n",
    "        val = str(val)\n",
    "        val = val.replace(\"'\",\"\")\n",
    "\n",
    "        # split the value\n",
    "        tokens = val.split()\n",
    "\n",
    "        # Converts each token into lowercase\n",
    "        for i in range(len(tokens)):\n",
    "            tokens[i] = tokens[i].lower()\n",
    "\n",
    "        comment_words += \" \".join(tokens)+\" \"\n",
    "\n",
    "    wordcloud = WordCloud(width = 800, height = 800,\n",
    "                    background_color ='white',\n",
    "                    stopwords = stopwords,\n",
    "                    min_font_size = 10).generate(comment_words)\n",
    "\n",
    "    # plot the WordCloud image                      \n",
    "    plt.figure(figsize = (8, 8), facecolor = None)\n",
    "    plt.imshow(wordcloud)\n",
    "    plt.axis(\"off\")\n",
    "    plt.tight_layout(pad = 0)\n",
    "\n",
    "    plt.show()"
   ]
  },
  {
   "cell_type": "code",
   "execution_count": 36,
   "id": "711c491c",
   "metadata": {},
   "outputs": [
    {
     "ename": "NameError",
     "evalue": "name 'STOPWORDS' is not defined",
     "output_type": "error",
     "traceback": [
      "\u001b[1;31m---------------------------------------------------------------------------\u001b[0m",
      "\u001b[1;31mNameError\u001b[0m                                 Traceback (most recent call last)",
      "Cell \u001b[1;32mIn[36], line 1\u001b[0m\n\u001b[1;32m----> 1\u001b[0m word_cloud(\u001b[39m\"\u001b[39;49m\u001b[39mjan\u001b[39;49m\u001b[39m\"\u001b[39;49m, \u001b[39m\"\u001b[39;49m\u001b[39mamerican\u001b[39;49m\u001b[39m\"\u001b[39;49m)\n",
      "Cell \u001b[1;32mIn[35], line 9\u001b[0m, in \u001b[0;36mword_cloud\u001b[1;34m(month, word)\u001b[0m\n\u001b[0;32m      7\u001b[0m     dataset \u001b[39m=\u001b[39m dec_model\u001b[39m.\u001b[39mwv\u001b[39m.\u001b[39mmost_similar(word, topn \u001b[39m=\u001b[39m \u001b[39m50\u001b[39m)\n\u001b[0;32m      8\u001b[0m comment_words \u001b[39m=\u001b[39m \u001b[39m'\u001b[39m\u001b[39m'\u001b[39m\n\u001b[1;32m----> 9\u001b[0m stopwords \u001b[39m=\u001b[39m \u001b[39mset\u001b[39m(STOPWORDS)\n\u001b[0;32m     10\u001b[0m \u001b[39mfor\u001b[39;00m val \u001b[39min\u001b[39;00m dataset:\n\u001b[0;32m     11\u001b[0m     \n\u001b[0;32m     12\u001b[0m \n\u001b[0;32m     13\u001b[0m \n\u001b[0;32m     14\u001b[0m     \u001b[39m# typecaste each val to string\u001b[39;00m\n\u001b[0;32m     15\u001b[0m     val \u001b[39m=\u001b[39m \u001b[39mstr\u001b[39m(val)\n",
      "\u001b[1;31mNameError\u001b[0m: name 'STOPWORDS' is not defined"
     ]
    }
   ],
   "source": [
    "word_cloud(\"jan\", \"american\")"
   ]
  },
  {
   "cell_type": "code",
   "execution_count": null,
   "id": "510ebde5",
   "metadata": {},
   "outputs": [],
   "source": [
    "word_cloud(\"aug\", \"sports\")"
   ]
  },
  {
   "cell_type": "code",
   "execution_count": null,
   "id": "8127f52e",
   "metadata": {},
   "outputs": [],
   "source": [
    "word_cloud(\"dec\", \"sports\")"
   ]
  },
  {
   "cell_type": "code",
   "execution_count": null,
   "id": "ae42b0bf",
   "metadata": {},
   "outputs": [],
   "source": [
    "def top_k_words(word1, word2, n):\n",
    "    arr = []\n",
    "    jan = jan_model.wv.most_similar(word1, topn = n)\n",
    "    aug = aug_model.wv.most_similar(word1, topn = n)\n",
    "    dec = dec_model.wv.most_similar(word1, topn = n)\n",
    "    empty_array = np.empty((0, 3), float)\n",
    "    month_list = [jan_mode.w, aug, dec]\n",
    "    for i in range(n):\n",
    "        for month in month_list:\n",
    "            arr.append(distance.cosine(month[jan] , month_model.wv[word2]))\n",
    "        print(arr)\n",
    "        empty_array = np.append(empty_array, np.array([arr]), axis=0)\n",
    "        print(empty_array)\n",
    "        arr = []\n",
    "    for i in range(4):\n",
    "        plt.plot(['Jan', 'Aug', 'Dec'], empty_array[i], marker = 'o')   "
   ]
  }
 ],
 "metadata": {
  "kernelspec": {
   "display_name": "Python 3",
   "language": "python",
   "name": "python3"
  },
  "language_info": {
   "codemirror_mode": {
    "name": "ipython",
    "version": 3
   },
   "file_extension": ".py",
   "mimetype": "text/x-python",
   "name": "python",
   "nbconvert_exporter": "python",
   "pygments_lexer": "ipython3",
   "version": "3.10.0"
  },
  "vscode": {
   "interpreter": {
    "hash": "369f2c481f4da34e4445cda3fffd2e751bd1c4d706f27375911949ba6bb62e1c"
   }
  }
 },
 "nbformat": 4,
 "nbformat_minor": 5
}
